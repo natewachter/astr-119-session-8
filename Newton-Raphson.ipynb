{
 "cells": [
  {
   "cell_type": "markdown",
   "metadata": {},
   "source": [
    "# A Newton-Rapshon Root Finding Implementation"
   ]
  },
  {
   "cell_type": "code",
   "execution_count": null,
   "metadata": {},
   "outputs": [],
   "source": [
    "%matplotlib inline\n",
    "import numpy as np\n",
    "import matplotlib.pyplot as plt"
   ]
  },
  {
   "cell_type": "markdown",
   "metadata": {},
   "source": [
    "# Define the function for root finding"
   ]
  },
  {
   "cell_type": "code",
   "execution_count": null,
   "metadata": {},
   "outputs": [],
   "source": [
    "def function_for_root(x):\n",
    "    a = 1.01\n",
    "    b = -3.04\n",
    "    c = 2.07\n",
    "    return a*x**2 + b*x + c"
   ]
  },
  {
   "cell_type": "markdown",
   "metadata": {},
   "source": [
    "# Define the derivative"
   ]
  },
  {
   "cell_type": "code",
   "execution_count": null,
   "metadata": {},
   "outputs": [],
   "source": [
    "def derivative_for_root(x):\n",
    "    a = 1.01\n",
    "    b = -3.04\n",
    "    return 2*a*x + b"
   ]
  },
  {
   "cell_type": "markdown",
   "metadata": {},
   "source": [
    "# Define the primary work function"
   ]
  },
  {
   "cell_type": "code",
   "execution_count": null,
   "metadata": {},
   "outputs": [],
   "source": [
    "def newton_raphson_root_finding(f, dfdx, x_start, tol):\n",
    "    \n",
    "    # use newton-raphson search to find a root\n",
    "    \n",
    "    # set a flag\n",
    "    flag = 1\n",
    "    \n",
    "    # set a max number of iterations\n",
    "    imax = 10000\n",
    "    \n",
    "    # set counter\n",
    "    i = 0\n",
    "    \n",
    "    # define the new and old guesses\n",
    "    x_old = x_start\n",
    "    x_new = 0.0\n",
    "    y_new = 0.0\n",
    "    \n",
    "    # begin the loop\n",
    "    while(flag):\n",
    "        \n",
    "        # make new guess\n",
    "        x_new = x_old - f(x_old)/dfdx(x_old)\n",
    "        \n",
    "        # print the iteration\n",
    "        print(x_new, x_old, f(x_old), dfdx(x_old))\n",
    "        \n",
    "        # if abs value less than tol, then stop\n",
    "        y_new = f(x_new)\n",
    "        \n",
    "        if(np.fabs(y_new)<tol):\n",
    "            flag = 0               # end loop\n",
    "        else:\n",
    "            # save result\n",
    "            x_old = x_new\n",
    "            # increment iteration\n",
    "            i +=1\n",
    "            \n",
    "        if(i>=imax):\n",
    "            print('Max iterations reached')\n",
    "            raise StopIteration('Stopping iterations after ',i)\n",
    "    \n",
    "    # we're all done!\n",
    "    return x_new"
   ]
  },
  {
   "cell_type": "markdown",
   "metadata": {},
   "source": [
    "# Perform the search"
   ]
  },
  {
   "cell_type": "code",
   "execution_count": null,
   "metadata": {},
   "outputs": [],
   "source": [
    "x_start = 0.5\n",
    "tolerance = 1.0e-6\n",
    "\n",
    "# print initial guess\n",
    "print(x_start, function_for_root(x_start))\n",
    "\n",
    "x_root = newton_raphson_root_finding(function_for_root, derivative_for_root,x_start, tolerance)\n",
    "y_root = function_for_root(x_root)\n",
    "\n",
    "s = \"Root found with y(%15.14e) = %15.14e\" % (x_root,y_root)\n",
    "print(s)"
   ]
  },
  {
   "cell_type": "code",
   "execution_count": null,
   "metadata": {},
   "outputs": [],
   "source": []
  }
 ],
 "metadata": {
  "kernelspec": {
   "display_name": "Python 3",
   "language": "python",
   "name": "python3"
  },
  "language_info": {
   "codemirror_mode": {
    "name": "ipython",
    "version": 3
   },
   "file_extension": ".py",
   "mimetype": "text/x-python",
   "name": "python",
   "nbconvert_exporter": "python",
   "pygments_lexer": "ipython3",
   "version": "3.8.6"
  }
 },
 "nbformat": 4,
 "nbformat_minor": 4
}
